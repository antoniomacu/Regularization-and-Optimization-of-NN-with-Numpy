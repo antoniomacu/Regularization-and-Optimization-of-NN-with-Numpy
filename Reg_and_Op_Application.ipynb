{
  "cells": [
    {
      "cell_type": "markdown",
      "metadata": {
        "id": "view-in-github",
        "colab_type": "text"
      },
      "source": [
        "<a href=\"https://colab.research.google.com/github/antoniomacu/Regularization-and-Optimization-of-NN-with-Numpy/blob/main/Reg_and_Op_Application.ipynb\" target=\"_parent\"><img src=\"https://colab.research.google.com/assets/colab-badge.svg\" alt=\"Open In Colab\"/></a>"
      ]
    },
    {
      "cell_type": "markdown",
      "id": "c8a50133",
      "metadata": {
        "id": "c8a50133"
      },
      "source": [
        "# Regularization and Optimization Application - Santander Customer Transaction"
      ]
    },
    {
      "cell_type": "markdown",
      "id": "0dcfd91a",
      "metadata": {
        "id": "0dcfd91a"
      },
      "source": [
        "This notebook is an application example of the functions in `reg_op_functions.py` (implementation of Regularization and Optimization methods for Neural Networks).\n",
        "\n",
        "In this case I'm going to use the [Santander Customer Transaction Dataset](https://www.kaggle.com/competitions/santander-customer-transaction-prediction/overview) from **Kaggle**.The base Neural Network implemented is the one already programmed in `nn_functions.py` (Deep Neural Network for binary classification). You can find the original repository for that [here](https://github.com/antoniomacu/Deep-Neural-Network-from-scratch)."
      ]
    },
    {
      "cell_type": "markdown",
      "id": "4309fb77",
      "metadata": {
        "id": "4309fb77"
      },
      "source": [
        "## 1. Import packages"
      ]
    },
    {
      "cell_type": "markdown",
      "source": [
        "In order to import `nn_functions.py` and `reg_op_functions.py`, they need to be in a folder uploaded to *Google Drive*, same location as this script."
      ],
      "metadata": {
        "id": "iIf2M2_CrkId"
      },
      "id": "iIf2M2_CrkId"
    },
    {
      "cell_type": "code",
      "execution_count": 1,
      "id": "2b32f8bc",
      "metadata": {
        "colab": {
          "base_uri": "https://localhost:8080/"
        },
        "id": "2b32f8bc",
        "outputId": "2a69e9c2-3965-46b6-e8a4-e5404acda035"
      },
      "outputs": [
        {
          "output_type": "stream",
          "name": "stdout",
          "text": [
            "Mounted at /content/drive\n"
          ]
        }
      ],
      "source": [
        "import numpy as np\n",
        "import pandas as pd\n",
        "import matplotlib.pyplot as plt\n",
        "from google.colab import drive\n",
        "drive.mount('/content/drive', force_remount=True)\n",
        "\n",
        "# Import the NNet scripts\n",
        "import os\n",
        "os.chdir('/content/drive/My Drive/Colab Notebooks/Reg and Op Project/')\n",
        "from nn_functions import *\n",
        "from reg_op_functions import *"
      ]
    },
    {
      "cell_type": "markdown",
      "source": [
        "This is to upload the data from Kaggle's API - Your own Kaggle's API key need to be uploaded manually in order to access to the online datasets."
      ],
      "metadata": {
        "id": "1AjsKjkz4VqS"
      },
      "id": "1AjsKjkz4VqS"
    },
    {
      "cell_type": "code",
      "source": [
        "# Upload 'kaggle.json' API key\n",
        "from google.colab import files\n",
        "files.upload()  # Select kaggle.json\n",
        "\n",
        "# Set up Kaggle credentials\n",
        "os.makedirs('/root/.kaggle', exist_ok=True)\n",
        "!mv kaggle.json /root/.kaggle/\n",
        "!chmod 600 /root/.kaggle/kaggle.json\n",
        "\n",
        "# Download the Santander dataset\n",
        "!kaggle competitions download -c santander-customer-transaction-prediction\n",
        "\n",
        "# Unzip files\n",
        "import zipfile\n",
        "with zipfile.ZipFile(\"santander-customer-transaction-prediction.zip\",\"r\") as zip_ref:\n",
        "    zip_ref.extractall(\"santander\")"
      ],
      "metadata": {
        "colab": {
          "base_uri": "https://localhost:8080/",
          "height": 90
        },
        "id": "KPtDr1mPzbnf",
        "outputId": "dbe1de66-dc04-4e85-d5f1-24e75dea851b"
      },
      "id": "KPtDr1mPzbnf",
      "execution_count": 2,
      "outputs": [
        {
          "output_type": "display_data",
          "data": {
            "text/plain": [
              "<IPython.core.display.HTML object>"
            ],
            "text/html": [
              "\n",
              "     <input type=\"file\" id=\"files-a96f7c40-7634-413a-af80-4c7f38c18e5e\" name=\"files[]\" multiple disabled\n",
              "        style=\"border:none\" />\n",
              "     <output id=\"result-a96f7c40-7634-413a-af80-4c7f38c18e5e\">\n",
              "      Upload widget is only available when the cell has been executed in the\n",
              "      current browser session. Please rerun this cell to enable.\n",
              "      </output>\n",
              "      <script>// Copyright 2017 Google LLC\n",
              "//\n",
              "// Licensed under the Apache License, Version 2.0 (the \"License\");\n",
              "// you may not use this file except in compliance with the License.\n",
              "// You may obtain a copy of the License at\n",
              "//\n",
              "//      http://www.apache.org/licenses/LICENSE-2.0\n",
              "//\n",
              "// Unless required by applicable law or agreed to in writing, software\n",
              "// distributed under the License is distributed on an \"AS IS\" BASIS,\n",
              "// WITHOUT WARRANTIES OR CONDITIONS OF ANY KIND, either express or implied.\n",
              "// See the License for the specific language governing permissions and\n",
              "// limitations under the License.\n",
              "\n",
              "/**\n",
              " * @fileoverview Helpers for google.colab Python module.\n",
              " */\n",
              "(function(scope) {\n",
              "function span(text, styleAttributes = {}) {\n",
              "  const element = document.createElement('span');\n",
              "  element.textContent = text;\n",
              "  for (const key of Object.keys(styleAttributes)) {\n",
              "    element.style[key] = styleAttributes[key];\n",
              "  }\n",
              "  return element;\n",
              "}\n",
              "\n",
              "// Max number of bytes which will be uploaded at a time.\n",
              "const MAX_PAYLOAD_SIZE = 100 * 1024;\n",
              "\n",
              "function _uploadFiles(inputId, outputId) {\n",
              "  const steps = uploadFilesStep(inputId, outputId);\n",
              "  const outputElement = document.getElementById(outputId);\n",
              "  // Cache steps on the outputElement to make it available for the next call\n",
              "  // to uploadFilesContinue from Python.\n",
              "  outputElement.steps = steps;\n",
              "\n",
              "  return _uploadFilesContinue(outputId);\n",
              "}\n",
              "\n",
              "// This is roughly an async generator (not supported in the browser yet),\n",
              "// where there are multiple asynchronous steps and the Python side is going\n",
              "// to poll for completion of each step.\n",
              "// This uses a Promise to block the python side on completion of each step,\n",
              "// then passes the result of the previous step as the input to the next step.\n",
              "function _uploadFilesContinue(outputId) {\n",
              "  const outputElement = document.getElementById(outputId);\n",
              "  const steps = outputElement.steps;\n",
              "\n",
              "  const next = steps.next(outputElement.lastPromiseValue);\n",
              "  return Promise.resolve(next.value.promise).then((value) => {\n",
              "    // Cache the last promise value to make it available to the next\n",
              "    // step of the generator.\n",
              "    outputElement.lastPromiseValue = value;\n",
              "    return next.value.response;\n",
              "  });\n",
              "}\n",
              "\n",
              "/**\n",
              " * Generator function which is called between each async step of the upload\n",
              " * process.\n",
              " * @param {string} inputId Element ID of the input file picker element.\n",
              " * @param {string} outputId Element ID of the output display.\n",
              " * @return {!Iterable<!Object>} Iterable of next steps.\n",
              " */\n",
              "function* uploadFilesStep(inputId, outputId) {\n",
              "  const inputElement = document.getElementById(inputId);\n",
              "  inputElement.disabled = false;\n",
              "\n",
              "  const outputElement = document.getElementById(outputId);\n",
              "  outputElement.innerHTML = '';\n",
              "\n",
              "  const pickedPromise = new Promise((resolve) => {\n",
              "    inputElement.addEventListener('change', (e) => {\n",
              "      resolve(e.target.files);\n",
              "    });\n",
              "  });\n",
              "\n",
              "  const cancel = document.createElement('button');\n",
              "  inputElement.parentElement.appendChild(cancel);\n",
              "  cancel.textContent = 'Cancel upload';\n",
              "  const cancelPromise = new Promise((resolve) => {\n",
              "    cancel.onclick = () => {\n",
              "      resolve(null);\n",
              "    };\n",
              "  });\n",
              "\n",
              "  // Wait for the user to pick the files.\n",
              "  const files = yield {\n",
              "    promise: Promise.race([pickedPromise, cancelPromise]),\n",
              "    response: {\n",
              "      action: 'starting',\n",
              "    }\n",
              "  };\n",
              "\n",
              "  cancel.remove();\n",
              "\n",
              "  // Disable the input element since further picks are not allowed.\n",
              "  inputElement.disabled = true;\n",
              "\n",
              "  if (!files) {\n",
              "    return {\n",
              "      response: {\n",
              "        action: 'complete',\n",
              "      }\n",
              "    };\n",
              "  }\n",
              "\n",
              "  for (const file of files) {\n",
              "    const li = document.createElement('li');\n",
              "    li.append(span(file.name, {fontWeight: 'bold'}));\n",
              "    li.append(span(\n",
              "        `(${file.type || 'n/a'}) - ${file.size} bytes, ` +\n",
              "        `last modified: ${\n",
              "            file.lastModifiedDate ? file.lastModifiedDate.toLocaleDateString() :\n",
              "                                    'n/a'} - `));\n",
              "    const percent = span('0% done');\n",
              "    li.appendChild(percent);\n",
              "\n",
              "    outputElement.appendChild(li);\n",
              "\n",
              "    const fileDataPromise = new Promise((resolve) => {\n",
              "      const reader = new FileReader();\n",
              "      reader.onload = (e) => {\n",
              "        resolve(e.target.result);\n",
              "      };\n",
              "      reader.readAsArrayBuffer(file);\n",
              "    });\n",
              "    // Wait for the data to be ready.\n",
              "    let fileData = yield {\n",
              "      promise: fileDataPromise,\n",
              "      response: {\n",
              "        action: 'continue',\n",
              "      }\n",
              "    };\n",
              "\n",
              "    // Use a chunked sending to avoid message size limits. See b/62115660.\n",
              "    let position = 0;\n",
              "    do {\n",
              "      const length = Math.min(fileData.byteLength - position, MAX_PAYLOAD_SIZE);\n",
              "      const chunk = new Uint8Array(fileData, position, length);\n",
              "      position += length;\n",
              "\n",
              "      const base64 = btoa(String.fromCharCode.apply(null, chunk));\n",
              "      yield {\n",
              "        response: {\n",
              "          action: 'append',\n",
              "          file: file.name,\n",
              "          data: base64,\n",
              "        },\n",
              "      };\n",
              "\n",
              "      let percentDone = fileData.byteLength === 0 ?\n",
              "          100 :\n",
              "          Math.round((position / fileData.byteLength) * 100);\n",
              "      percent.textContent = `${percentDone}% done`;\n",
              "\n",
              "    } while (position < fileData.byteLength);\n",
              "  }\n",
              "\n",
              "  // All done.\n",
              "  yield {\n",
              "    response: {\n",
              "      action: 'complete',\n",
              "    }\n",
              "  };\n",
              "}\n",
              "\n",
              "scope.google = scope.google || {};\n",
              "scope.google.colab = scope.google.colab || {};\n",
              "scope.google.colab._files = {\n",
              "  _uploadFiles,\n",
              "  _uploadFilesContinue,\n",
              "};\n",
              "})(self);\n",
              "</script> "
            ]
          },
          "metadata": {}
        },
        {
          "output_type": "stream",
          "name": "stdout",
          "text": [
            "Saving kaggle.json to kaggle.json\n",
            "santander-customer-transaction-prediction.zip: Skipping, found more recently modified local copy (use --force to force download)\n"
          ]
        }
      ]
    },
    {
      "cell_type": "markdown",
      "id": "57e191d1",
      "metadata": {
        "id": "57e191d1"
      },
      "source": [
        "## 2. Dataset Exploration"
      ]
    },
    {
      "cell_type": "markdown",
      "id": "b72dba80",
      "metadata": {
        "id": "b72dba80"
      },
      "source": [
        "The **Santander Customer Transaction Dataset** is already splitted in a train and test dataset, each as a .csv file respectively.\n",
        "\n",
        "For the exploration I'll use the training dataset, as is the most representative one."
      ]
    },
    {
      "cell_type": "code",
      "execution_count": 3,
      "id": "a1ecf0f3",
      "metadata": {
        "colab": {
          "base_uri": "https://localhost:8080/",
          "height": 255
        },
        "id": "a1ecf0f3",
        "outputId": "985a4858-7db5-4611-8ff7-c02c89bba30f"
      },
      "outputs": [
        {
          "output_type": "execute_result",
          "data": {
            "text/plain": [
              "   ID_code  target    var_0   var_1    var_2   var_3    var_4   var_5   var_6  \\\n",
              "0  train_0       0   8.9255 -6.7863  11.9081  5.0930  11.4607 -9.2834  5.1187   \n",
              "1  train_1       0  11.5006 -4.1473  13.8588  5.3890  12.3622  7.0433  5.6208   \n",
              "2  train_2       0   8.6093 -2.7457  12.0805  7.8928  10.5825 -9.0837  6.9427   \n",
              "3  train_3       0  11.0604 -2.1518   8.9522  7.1957  12.5846 -1.8361  5.8428   \n",
              "4  train_4       0   9.8369 -1.4834  12.8746  6.6375  12.2772  2.4486  5.9405   \n",
              "\n",
              "     var_7  ...  var_190  var_191  var_192  var_193  var_194  var_195  \\\n",
              "0  18.6266  ...   4.4354   3.9642   3.1364   1.6910  18.5227  -2.3978   \n",
              "1  16.5338  ...   7.6421   7.7214   2.5837  10.9516  15.4305   2.0339   \n",
              "2  14.6155  ...   2.9057   9.7905   1.6704   1.6858  21.6042   3.1417   \n",
              "3  14.9250  ...   4.4666   4.7433   0.7178   1.4214  23.0347  -1.2706   \n",
              "4  19.2514  ...  -1.4905   9.5214  -0.1508   9.1942  13.2876  -1.5121   \n",
              "\n",
              "   var_196  var_197  var_198  var_199  \n",
              "0   7.8784   8.5635  12.7803  -1.0914  \n",
              "1   8.1267   8.7889  18.3560   1.9518  \n",
              "2  -6.5213   8.2675  14.7222   0.3965  \n",
              "3  -2.9275  10.2922  17.9697  -8.9996  \n",
              "4   3.9267   9.5031  17.9974  -8.8104  \n",
              "\n",
              "[5 rows x 202 columns]"
            ],
            "text/html": [
              "\n",
              "  <div id=\"df-e579d611-0700-413b-a83f-5a92ef0279b3\" class=\"colab-df-container\">\n",
              "    <div>\n",
              "<style scoped>\n",
              "    .dataframe tbody tr th:only-of-type {\n",
              "        vertical-align: middle;\n",
              "    }\n",
              "\n",
              "    .dataframe tbody tr th {\n",
              "        vertical-align: top;\n",
              "    }\n",
              "\n",
              "    .dataframe thead th {\n",
              "        text-align: right;\n",
              "    }\n",
              "</style>\n",
              "<table border=\"1\" class=\"dataframe\">\n",
              "  <thead>\n",
              "    <tr style=\"text-align: right;\">\n",
              "      <th></th>\n",
              "      <th>ID_code</th>\n",
              "      <th>target</th>\n",
              "      <th>var_0</th>\n",
              "      <th>var_1</th>\n",
              "      <th>var_2</th>\n",
              "      <th>var_3</th>\n",
              "      <th>var_4</th>\n",
              "      <th>var_5</th>\n",
              "      <th>var_6</th>\n",
              "      <th>var_7</th>\n",
              "      <th>...</th>\n",
              "      <th>var_190</th>\n",
              "      <th>var_191</th>\n",
              "      <th>var_192</th>\n",
              "      <th>var_193</th>\n",
              "      <th>var_194</th>\n",
              "      <th>var_195</th>\n",
              "      <th>var_196</th>\n",
              "      <th>var_197</th>\n",
              "      <th>var_198</th>\n",
              "      <th>var_199</th>\n",
              "    </tr>\n",
              "  </thead>\n",
              "  <tbody>\n",
              "    <tr>\n",
              "      <th>0</th>\n",
              "      <td>train_0</td>\n",
              "      <td>0</td>\n",
              "      <td>8.9255</td>\n",
              "      <td>-6.7863</td>\n",
              "      <td>11.9081</td>\n",
              "      <td>5.0930</td>\n",
              "      <td>11.4607</td>\n",
              "      <td>-9.2834</td>\n",
              "      <td>5.1187</td>\n",
              "      <td>18.6266</td>\n",
              "      <td>...</td>\n",
              "      <td>4.4354</td>\n",
              "      <td>3.9642</td>\n",
              "      <td>3.1364</td>\n",
              "      <td>1.6910</td>\n",
              "      <td>18.5227</td>\n",
              "      <td>-2.3978</td>\n",
              "      <td>7.8784</td>\n",
              "      <td>8.5635</td>\n",
              "      <td>12.7803</td>\n",
              "      <td>-1.0914</td>\n",
              "    </tr>\n",
              "    <tr>\n",
              "      <th>1</th>\n",
              "      <td>train_1</td>\n",
              "      <td>0</td>\n",
              "      <td>11.5006</td>\n",
              "      <td>-4.1473</td>\n",
              "      <td>13.8588</td>\n",
              "      <td>5.3890</td>\n",
              "      <td>12.3622</td>\n",
              "      <td>7.0433</td>\n",
              "      <td>5.6208</td>\n",
              "      <td>16.5338</td>\n",
              "      <td>...</td>\n",
              "      <td>7.6421</td>\n",
              "      <td>7.7214</td>\n",
              "      <td>2.5837</td>\n",
              "      <td>10.9516</td>\n",
              "      <td>15.4305</td>\n",
              "      <td>2.0339</td>\n",
              "      <td>8.1267</td>\n",
              "      <td>8.7889</td>\n",
              "      <td>18.3560</td>\n",
              "      <td>1.9518</td>\n",
              "    </tr>\n",
              "    <tr>\n",
              "      <th>2</th>\n",
              "      <td>train_2</td>\n",
              "      <td>0</td>\n",
              "      <td>8.6093</td>\n",
              "      <td>-2.7457</td>\n",
              "      <td>12.0805</td>\n",
              "      <td>7.8928</td>\n",
              "      <td>10.5825</td>\n",
              "      <td>-9.0837</td>\n",
              "      <td>6.9427</td>\n",
              "      <td>14.6155</td>\n",
              "      <td>...</td>\n",
              "      <td>2.9057</td>\n",
              "      <td>9.7905</td>\n",
              "      <td>1.6704</td>\n",
              "      <td>1.6858</td>\n",
              "      <td>21.6042</td>\n",
              "      <td>3.1417</td>\n",
              "      <td>-6.5213</td>\n",
              "      <td>8.2675</td>\n",
              "      <td>14.7222</td>\n",
              "      <td>0.3965</td>\n",
              "    </tr>\n",
              "    <tr>\n",
              "      <th>3</th>\n",
              "      <td>train_3</td>\n",
              "      <td>0</td>\n",
              "      <td>11.0604</td>\n",
              "      <td>-2.1518</td>\n",
              "      <td>8.9522</td>\n",
              "      <td>7.1957</td>\n",
              "      <td>12.5846</td>\n",
              "      <td>-1.8361</td>\n",
              "      <td>5.8428</td>\n",
              "      <td>14.9250</td>\n",
              "      <td>...</td>\n",
              "      <td>4.4666</td>\n",
              "      <td>4.7433</td>\n",
              "      <td>0.7178</td>\n",
              "      <td>1.4214</td>\n",
              "      <td>23.0347</td>\n",
              "      <td>-1.2706</td>\n",
              "      <td>-2.9275</td>\n",
              "      <td>10.2922</td>\n",
              "      <td>17.9697</td>\n",
              "      <td>-8.9996</td>\n",
              "    </tr>\n",
              "    <tr>\n",
              "      <th>4</th>\n",
              "      <td>train_4</td>\n",
              "      <td>0</td>\n",
              "      <td>9.8369</td>\n",
              "      <td>-1.4834</td>\n",
              "      <td>12.8746</td>\n",
              "      <td>6.6375</td>\n",
              "      <td>12.2772</td>\n",
              "      <td>2.4486</td>\n",
              "      <td>5.9405</td>\n",
              "      <td>19.2514</td>\n",
              "      <td>...</td>\n",
              "      <td>-1.4905</td>\n",
              "      <td>9.5214</td>\n",
              "      <td>-0.1508</td>\n",
              "      <td>9.1942</td>\n",
              "      <td>13.2876</td>\n",
              "      <td>-1.5121</td>\n",
              "      <td>3.9267</td>\n",
              "      <td>9.5031</td>\n",
              "      <td>17.9974</td>\n",
              "      <td>-8.8104</td>\n",
              "    </tr>\n",
              "  </tbody>\n",
              "</table>\n",
              "<p>5 rows × 202 columns</p>\n",
              "</div>\n",
              "    <div class=\"colab-df-buttons\">\n",
              "\n",
              "  <div class=\"colab-df-container\">\n",
              "    <button class=\"colab-df-convert\" onclick=\"convertToInteractive('df-e579d611-0700-413b-a83f-5a92ef0279b3')\"\n",
              "            title=\"Convert this dataframe to an interactive table.\"\n",
              "            style=\"display:none;\">\n",
              "\n",
              "  <svg xmlns=\"http://www.w3.org/2000/svg\" height=\"24px\" viewBox=\"0 -960 960 960\">\n",
              "    <path d=\"M120-120v-720h720v720H120Zm60-500h600v-160H180v160Zm220 220h160v-160H400v160Zm0 220h160v-160H400v160ZM180-400h160v-160H180v160Zm440 0h160v-160H620v160ZM180-180h160v-160H180v160Zm440 0h160v-160H620v160Z\"/>\n",
              "  </svg>\n",
              "    </button>\n",
              "\n",
              "  <style>\n",
              "    .colab-df-container {\n",
              "      display:flex;\n",
              "      gap: 12px;\n",
              "    }\n",
              "\n",
              "    .colab-df-convert {\n",
              "      background-color: #E8F0FE;\n",
              "      border: none;\n",
              "      border-radius: 50%;\n",
              "      cursor: pointer;\n",
              "      display: none;\n",
              "      fill: #1967D2;\n",
              "      height: 32px;\n",
              "      padding: 0 0 0 0;\n",
              "      width: 32px;\n",
              "    }\n",
              "\n",
              "    .colab-df-convert:hover {\n",
              "      background-color: #E2EBFA;\n",
              "      box-shadow: 0px 1px 2px rgba(60, 64, 67, 0.3), 0px 1px 3px 1px rgba(60, 64, 67, 0.15);\n",
              "      fill: #174EA6;\n",
              "    }\n",
              "\n",
              "    .colab-df-buttons div {\n",
              "      margin-bottom: 4px;\n",
              "    }\n",
              "\n",
              "    [theme=dark] .colab-df-convert {\n",
              "      background-color: #3B4455;\n",
              "      fill: #D2E3FC;\n",
              "    }\n",
              "\n",
              "    [theme=dark] .colab-df-convert:hover {\n",
              "      background-color: #434B5C;\n",
              "      box-shadow: 0px 1px 3px 1px rgba(0, 0, 0, 0.15);\n",
              "      filter: drop-shadow(0px 1px 2px rgba(0, 0, 0, 0.3));\n",
              "      fill: #FFFFFF;\n",
              "    }\n",
              "  </style>\n",
              "\n",
              "    <script>\n",
              "      const buttonEl =\n",
              "        document.querySelector('#df-e579d611-0700-413b-a83f-5a92ef0279b3 button.colab-df-convert');\n",
              "      buttonEl.style.display =\n",
              "        google.colab.kernel.accessAllowed ? 'block' : 'none';\n",
              "\n",
              "      async function convertToInteractive(key) {\n",
              "        const element = document.querySelector('#df-e579d611-0700-413b-a83f-5a92ef0279b3');\n",
              "        const dataTable =\n",
              "          await google.colab.kernel.invokeFunction('convertToInteractive',\n",
              "                                                    [key], {});\n",
              "        if (!dataTable) return;\n",
              "\n",
              "        const docLinkHtml = 'Like what you see? Visit the ' +\n",
              "          '<a target=\"_blank\" href=https://colab.research.google.com/notebooks/data_table.ipynb>data table notebook</a>'\n",
              "          + ' to learn more about interactive tables.';\n",
              "        element.innerHTML = '';\n",
              "        dataTable['output_type'] = 'display_data';\n",
              "        await google.colab.output.renderOutput(dataTable, element);\n",
              "        const docLink = document.createElement('div');\n",
              "        docLink.innerHTML = docLinkHtml;\n",
              "        element.appendChild(docLink);\n",
              "      }\n",
              "    </script>\n",
              "  </div>\n",
              "\n",
              "\n",
              "    <div id=\"df-143d2b49-c821-4573-a72e-f63e0b9b4229\">\n",
              "      <button class=\"colab-df-quickchart\" onclick=\"quickchart('df-143d2b49-c821-4573-a72e-f63e0b9b4229')\"\n",
              "                title=\"Suggest charts\"\n",
              "                style=\"display:none;\">\n",
              "\n",
              "<svg xmlns=\"http://www.w3.org/2000/svg\" height=\"24px\"viewBox=\"0 0 24 24\"\n",
              "     width=\"24px\">\n",
              "    <g>\n",
              "        <path d=\"M19 3H5c-1.1 0-2 .9-2 2v14c0 1.1.9 2 2 2h14c1.1 0 2-.9 2-2V5c0-1.1-.9-2-2-2zM9 17H7v-7h2v7zm4 0h-2V7h2v10zm4 0h-2v-4h2v4z\"/>\n",
              "    </g>\n",
              "</svg>\n",
              "      </button>\n",
              "\n",
              "<style>\n",
              "  .colab-df-quickchart {\n",
              "      --bg-color: #E8F0FE;\n",
              "      --fill-color: #1967D2;\n",
              "      --hover-bg-color: #E2EBFA;\n",
              "      --hover-fill-color: #174EA6;\n",
              "      --disabled-fill-color: #AAA;\n",
              "      --disabled-bg-color: #DDD;\n",
              "  }\n",
              "\n",
              "  [theme=dark] .colab-df-quickchart {\n",
              "      --bg-color: #3B4455;\n",
              "      --fill-color: #D2E3FC;\n",
              "      --hover-bg-color: #434B5C;\n",
              "      --hover-fill-color: #FFFFFF;\n",
              "      --disabled-bg-color: #3B4455;\n",
              "      --disabled-fill-color: #666;\n",
              "  }\n",
              "\n",
              "  .colab-df-quickchart {\n",
              "    background-color: var(--bg-color);\n",
              "    border: none;\n",
              "    border-radius: 50%;\n",
              "    cursor: pointer;\n",
              "    display: none;\n",
              "    fill: var(--fill-color);\n",
              "    height: 32px;\n",
              "    padding: 0;\n",
              "    width: 32px;\n",
              "  }\n",
              "\n",
              "  .colab-df-quickchart:hover {\n",
              "    background-color: var(--hover-bg-color);\n",
              "    box-shadow: 0 1px 2px rgba(60, 64, 67, 0.3), 0 1px 3px 1px rgba(60, 64, 67, 0.15);\n",
              "    fill: var(--button-hover-fill-color);\n",
              "  }\n",
              "\n",
              "  .colab-df-quickchart-complete:disabled,\n",
              "  .colab-df-quickchart-complete:disabled:hover {\n",
              "    background-color: var(--disabled-bg-color);\n",
              "    fill: var(--disabled-fill-color);\n",
              "    box-shadow: none;\n",
              "  }\n",
              "\n",
              "  .colab-df-spinner {\n",
              "    border: 2px solid var(--fill-color);\n",
              "    border-color: transparent;\n",
              "    border-bottom-color: var(--fill-color);\n",
              "    animation:\n",
              "      spin 1s steps(1) infinite;\n",
              "  }\n",
              "\n",
              "  @keyframes spin {\n",
              "    0% {\n",
              "      border-color: transparent;\n",
              "      border-bottom-color: var(--fill-color);\n",
              "      border-left-color: var(--fill-color);\n",
              "    }\n",
              "    20% {\n",
              "      border-color: transparent;\n",
              "      border-left-color: var(--fill-color);\n",
              "      border-top-color: var(--fill-color);\n",
              "    }\n",
              "    30% {\n",
              "      border-color: transparent;\n",
              "      border-left-color: var(--fill-color);\n",
              "      border-top-color: var(--fill-color);\n",
              "      border-right-color: var(--fill-color);\n",
              "    }\n",
              "    40% {\n",
              "      border-color: transparent;\n",
              "      border-right-color: var(--fill-color);\n",
              "      border-top-color: var(--fill-color);\n",
              "    }\n",
              "    60% {\n",
              "      border-color: transparent;\n",
              "      border-right-color: var(--fill-color);\n",
              "    }\n",
              "    80% {\n",
              "      border-color: transparent;\n",
              "      border-right-color: var(--fill-color);\n",
              "      border-bottom-color: var(--fill-color);\n",
              "    }\n",
              "    90% {\n",
              "      border-color: transparent;\n",
              "      border-bottom-color: var(--fill-color);\n",
              "    }\n",
              "  }\n",
              "</style>\n",
              "\n",
              "      <script>\n",
              "        async function quickchart(key) {\n",
              "          const quickchartButtonEl =\n",
              "            document.querySelector('#' + key + ' button');\n",
              "          quickchartButtonEl.disabled = true;  // To prevent multiple clicks.\n",
              "          quickchartButtonEl.classList.add('colab-df-spinner');\n",
              "          try {\n",
              "            const charts = await google.colab.kernel.invokeFunction(\n",
              "                'suggestCharts', [key], {});\n",
              "          } catch (error) {\n",
              "            console.error('Error during call to suggestCharts:', error);\n",
              "          }\n",
              "          quickchartButtonEl.classList.remove('colab-df-spinner');\n",
              "          quickchartButtonEl.classList.add('colab-df-quickchart-complete');\n",
              "        }\n",
              "        (() => {\n",
              "          let quickchartButtonEl =\n",
              "            document.querySelector('#df-143d2b49-c821-4573-a72e-f63e0b9b4229 button');\n",
              "          quickchartButtonEl.style.display =\n",
              "            google.colab.kernel.accessAllowed ? 'block' : 'none';\n",
              "        })();\n",
              "      </script>\n",
              "    </div>\n",
              "\n",
              "    </div>\n",
              "  </div>\n"
            ],
            "application/vnd.google.colaboratory.intrinsic+json": {
              "type": "dataframe",
              "variable_name": "data_training"
            }
          },
          "metadata": {},
          "execution_count": 3
        }
      ],
      "source": [
        "data_training = pd.read_csv(\"santander/train.csv\")\n",
        "data_test = pd.read_csv(\"santander/test.csv\")\n",
        "data_training.head()"
      ]
    },
    {
      "cell_type": "code",
      "execution_count": null,
      "id": "6c3daf92",
      "metadata": {
        "colab": {
          "base_uri": "https://localhost:8080/"
        },
        "id": "6c3daf92",
        "outputId": "2cc4d068-6801-4c11-ca5f-6aefc5642574"
      },
      "outputs": [
        {
          "output_type": "stream",
          "name": "stdout",
          "text": [
            "(200000, 202)\n"
          ]
        }
      ],
      "source": [
        "print(data_training.shape)"
      ]
    },
    {
      "cell_type": "code",
      "source": [
        "print(data_training.info())\n",
        "print(data_training.describe())"
      ],
      "metadata": {
        "colab": {
          "base_uri": "https://localhost:8080/"
        },
        "id": "2KV21IMV6HDc",
        "outputId": "1a75cde3-26ca-4ecb-85cf-538d34ec0df4"
      },
      "id": "2KV21IMV6HDc",
      "execution_count": null,
      "outputs": [
        {
          "output_type": "stream",
          "name": "stdout",
          "text": [
            "<class 'pandas.core.frame.DataFrame'>\n",
            "RangeIndex: 200000 entries, 0 to 199999\n",
            "Columns: 202 entries, ID_code to var_199\n",
            "dtypes: float64(200), int64(1), object(1)\n",
            "memory usage: 308.2+ MB\n",
            "None\n",
            "              target          var_0          var_1          var_2  \\\n",
            "count  200000.000000  200000.000000  200000.000000  200000.000000   \n",
            "mean        0.100490      10.679914      -1.627622      10.715192   \n",
            "std         0.300653       3.040051       4.050044       2.640894   \n",
            "min         0.000000       0.408400     -15.043400       2.117100   \n",
            "25%         0.000000       8.453850      -4.740025       8.722475   \n",
            "50%         0.000000      10.524750      -1.608050      10.580000   \n",
            "75%         0.000000      12.758200       1.358625      12.516700   \n",
            "max         1.000000      20.315000      10.376800      19.353000   \n",
            "\n",
            "               var_3          var_4          var_5          var_6  \\\n",
            "count  200000.000000  200000.000000  200000.000000  200000.000000   \n",
            "mean        6.796529      11.078333      -5.065317       5.408949   \n",
            "std         2.043319       1.623150       7.863267       0.866607   \n",
            "min        -0.040200       5.074800     -32.562600       2.347300   \n",
            "25%         5.254075       9.883175     -11.200350       4.767700   \n",
            "50%         6.825000      11.108250      -4.833150       5.385100   \n",
            "75%         8.324100      12.261125       0.924800       6.003000   \n",
            "max        13.188300      16.671400      17.251600       8.447700   \n",
            "\n",
            "               var_7          var_8  ...        var_190        var_191  \\\n",
            "count  200000.000000  200000.000000  ...  200000.000000  200000.000000   \n",
            "mean       16.545850       0.284162  ...       3.234440       7.438408   \n",
            "std         3.418076       3.332634  ...       4.559922       3.023272   \n",
            "min         5.349700     -10.505500  ...     -14.093300      -2.691700   \n",
            "25%        13.943800      -2.317800  ...      -0.058825       5.157400   \n",
            "50%        16.456800       0.393700  ...       3.203600       7.347750   \n",
            "75%        19.102900       2.937900  ...       6.406200       9.512525   \n",
            "max        27.691800      10.151300  ...      18.440900      16.716500   \n",
            "\n",
            "             var_192        var_193        var_194        var_195  \\\n",
            "count  200000.000000  200000.000000  200000.000000  200000.000000   \n",
            "mean        1.927839       3.331774      17.993784      -0.142088   \n",
            "std         1.478423       3.992030       3.135162       1.429372   \n",
            "min        -3.814500     -11.783400       8.694400      -5.261000   \n",
            "25%         0.889775       0.584600      15.629800      -1.170700   \n",
            "50%         1.901300       3.396350      17.957950      -0.172700   \n",
            "75%         2.949500       6.205800      20.396525       0.829600   \n",
            "max         8.402400      18.281800      27.928800       4.272900   \n",
            "\n",
            "             var_196        var_197        var_198        var_199  \n",
            "count  200000.000000  200000.000000  200000.000000  200000.000000  \n",
            "mean        2.303335       8.908158      15.870720      -3.326537  \n",
            "std         5.454369       0.921625       3.010945      10.438015  \n",
            "min       -14.209600       5.960600       6.299300     -38.852800  \n",
            "25%        -1.946925       8.252800      13.829700     -11.208475  \n",
            "50%         2.408900       8.888200      15.934050      -2.819550  \n",
            "75%         6.556725       9.593300      18.064725       4.836800  \n",
            "max        18.321500      12.000400      26.079100      28.500700  \n",
            "\n",
            "[8 rows x 201 columns]\n"
          ]
        }
      ]
    },
    {
      "cell_type": "code",
      "source": [
        "columns = data_training.columns\n",
        "\n",
        "for col in columns:\n",
        "  n = data_training[col].isnull().sum()\n",
        "  if n != 0: print(f\"Column:{col} has {n} null values\")"
      ],
      "metadata": {
        "id": "3sTXrleC6cM0"
      },
      "id": "3sTXrleC6cM0",
      "execution_count": null,
      "outputs": []
    },
    {
      "cell_type": "markdown",
      "source": [
        "Now we'll separate the training dataset in **X** and **y**:"
      ],
      "metadata": {
        "id": "H-PSlm55CzCZ"
      },
      "id": "H-PSlm55CzCZ"
    },
    {
      "cell_type": "code",
      "source": [
        "X_train = data_training.drop(columns=['ID_code', 'target'])\n",
        "y_train = data_training['target']"
      ],
      "metadata": {
        "id": "AKrIIvV0Blsk"
      },
      "id": "AKrIIvV0Blsk",
      "execution_count": 4,
      "outputs": []
    },
    {
      "cell_type": "code",
      "source": [
        "print(data_training.target.value_counts())\n",
        "print('Non fraudulent transactions %:', (data_training['target'] == 0).sum()/ len(data_training))\n",
        "print('Fraudulent transactions %:', (data_training['target'] == 1).sum()/ len(data_training))\n",
        "\n",
        "max = 0\n",
        "min = 0\n",
        "for col in X_train.columns:\n",
        "  if X_train[col].max() > max: max = X_train[col].max()\n",
        "  if X_train[col].min() < min: min = X_train[col].min()\n",
        "print(f\"Max value: {max}\")\n",
        "print(f\"Min value: {min}\")"
      ],
      "metadata": {
        "colab": {
          "base_uri": "https://localhost:8080/"
        },
        "id": "902LkOQW8ebz",
        "outputId": "da5d0135-dd49-46cd-ebac-ee05bb4bf8c3"
      },
      "id": "902LkOQW8ebz",
      "execution_count": null,
      "outputs": [
        {
          "output_type": "stream",
          "name": "stdout",
          "text": [
            "target\n",
            "0    179902\n",
            "1     20098\n",
            "Name: count, dtype: int64\n",
            "Non fraudulent transactions %: 0.89951\n",
            "Fraudulent transactions %: 0.10049\n",
            "Max value: 74.0321\n",
            "Min value: -90.2525\n"
          ]
        }
      ]
    },
    {
      "cell_type": "markdown",
      "source": [
        "So we have in our hands a dataset of 200 features (202 columns in total - index - Target) and 200000 rows, each one represents a transaction done by a customer.\n",
        "\n",
        "* **Target**:\n",
        "\n",
        "  It's the nature of the transaction - `0` non-fraudulent (89.9%), `1` fraudulent (10%)\n",
        "\n",
        "* **var1 - var199**:\n",
        "\n",
        "  Each feature represents a statistical or transactional property of the customer, but their meaning is hidden to prevent data leakage and preserve privacy. The values are floating numbers ranging from -90.25 to 74.03.\n",
        "\n",
        "There aren't null or missing values in the dataset.\n",
        "\n",
        "\n"
      ],
      "metadata": {
        "id": "h6r60Mou8J4y"
      },
      "id": "h6r60Mou8J4y"
    },
    {
      "cell_type": "markdown",
      "source": [
        "## 3. Neural Network Training"
      ],
      "metadata": {
        "id": "gDMR4nX-GHTv"
      },
      "id": "gDMR4nX-GHTv"
    },
    {
      "cell_type": "markdown",
      "source": [
        "### 3.1 Preprocessing - Feature Scaling"
      ],
      "metadata": {
        "id": "cq4QV2vDGCaP"
      },
      "id": "cq4QV2vDGCaP"
    },
    {
      "cell_type": "code",
      "source": [
        "from sklearn.preprocessing import StandardScaler\n",
        "sc = StandardScaler()\n",
        "X_train_scaled = sc.fit_transform(X_train)\n",
        "\n",
        "# Reshape:\n",
        "X_train = X_train.T                 # Shape: (features, samples)\n",
        "y_train = y_train.to_numpy().reshape(1, -1)    # Shape: (1, samples)"
      ],
      "metadata": {
        "id": "gVTPwX44GbJy"
      },
      "id": "gVTPwX44GbJy",
      "execution_count": 5,
      "outputs": []
    },
    {
      "cell_type": "markdown",
      "source": [
        "### 3.2 Neural Network Training"
      ],
      "metadata": {
        "id": "AjP0-LTcGwYz"
      },
      "id": "AjP0-LTcGwYz"
    },
    {
      "cell_type": "markdown",
      "source": [
        "Now is the time of training the Neural Network! In this case I'll implement the functions of `reg_op_functions.py`. Here is a quick recap of what we can do with them:\n",
        "\n",
        "* **Initialization of parameters:**\n",
        "  * **Random**\n",
        "  * **'He' Initialization** - to improve the performance of layers with ReLU activation.\n",
        "* **Regularization** - to reduce overfitting:\n",
        "  * **L2 Regularization**\n",
        "  * **Dropout Regularization**\n",
        "* **Optimization** - to reduce computational cost and make training faster:\n",
        "  * **Mini-batch split**\n",
        "  * **Momentum Optimization**\n",
        "  * **Adam Optimization**\n",
        "\n",
        "The procedure will be: first create a function that brings all this processes together and that allows the user to select which method use. Then train two models with different methods and compare their performance.\n",
        "\n",
        "Both models will have **mini-batch split** as the dataset is quite big (200k entries).\n",
        "\n",
        "**A Model)** will have random initialization, L2 regularization and Adam optimization.\n",
        "\n",
        "**B Model)** will have 'He' initialization, Dropout regularization and Momentum optimization."
      ],
      "metadata": {
        "id": "jd3ai6YuG2cx"
      },
      "id": "jd3ai6YuG2cx"
    },
    {
      "cell_type": "code",
      "source": [
        "def reg_op_model(X, Y, layers_dims, initialization, regularization, optimizer, learning_rate=0.0007, mini_batch_size=64, beta=0.9,\n",
        "                 beta1=0.9, beta2=0.999, epsilon=1e-8, num_epochs=5000, print_cost=True, decay=None, decay_rate=1):\n",
        "    \"\"\"\n",
        "    Neural network model which can be run in different modes.\n",
        "\n",
        "    Arguments:\n",
        "    X -- input data, of shape (200, number examples)\n",
        "    Y -- true \"label\" vector (1 for / 0 for red dot), of shape (1, number of examples)\n",
        "    initialization -- the initialization to be passed, random or he\n",
        "    regularization -- the regularization to be passed, l2 or dropout\n",
        "    optimizer -- the optimizer to be passed, momentum or adam\n",
        "    layers_dims -- python list, containing the size of each layer\n",
        "    learning_rate -- the learning rate, scalar.\n",
        "    mini_batch_size -- the size of a mini batch\n",
        "    beta -- Momentum hyperparameter\n",
        "    beta1 -- Exponential decay hyperparameter for the past gradients estimates\n",
        "    beta2 -- Exponential decay hyperparameter for the past squared gradients estimates\n",
        "    epsilon -- hyperparameter preventing division by zero in Adam updates\n",
        "    num_epochs -- number of epochs\n",
        "    print_cost -- True to print the cost every 1000 epochs\n",
        "\n",
        "    Returns:\n",
        "    parameters -- python dictionary containing your updated parameters\n",
        "    \"\"\"\n",
        "    L = len(layers_dims)             # number of layers in the neural networks\n",
        "    costs = []                       # to keep track of the cost\n",
        "    t = 0                            # initializing the counter required for Adam update\n",
        "    seed = 42\n",
        "    m = X.shape[1]                   # number of training examples\n",
        "    learning_rate0 = learning_rate   # the original learning rate\n",
        "\n",
        "    # Intialize Parameters\n",
        "    if initialization == 'random':\n",
        "        scale = 0.1\n",
        "        parameters = initialize_parameters_random(layers_dims, scale)\n",
        "    elif initialization == 'he':\n",
        "        parameters = initialize_parameters_he(layers_dims)\n",
        "\n",
        "    # Initialize the Optimizer\n",
        "    if optimizer == \"momentum\":\n",
        "        v = initialize_velocity(parameters)\n",
        "    elif optimizer == \"adam\":\n",
        "        v, s = initialize_adam(parameters)\n",
        "\n",
        "    # Initialize the Regularization method\n",
        "    if regularization == 'l2':\n",
        "        lambd = 0.7\n",
        "        # Optimization Loop\n",
        "        for i in range(num_epochs):\n",
        "            # Define the random minibatches. We increment the seed to reshuffle differently the dataset after each epoch\n",
        "            seed = seed + 1\n",
        "            minibatches = random_mini_batches(X, Y, mini_batch_size, seed)\n",
        "            cost_total = 0\n",
        "\n",
        "            for minibatch in minibatches:\n",
        "                # Select a minibatch\n",
        "                (minibatch_X, minibatch_Y) = minibatch\n",
        "\n",
        "                # Forward propagation\n",
        "                AL, caches = forward_prop(minibatch_X, parameters)\n",
        "\n",
        "                # Compute cost and add to the cost total\n",
        "                cost_total += compute_cost_with_l2_reg(AL, minibatch_Y, parameters, lambd, layers_dims)\n",
        "\n",
        "                # Backward propagation\n",
        "                grads = backward_prop_with_l2_reg(AL, minibatch_Y, caches, lambd, parameters)\n",
        "\n",
        "                # Update parameters\n",
        "                if optimizer == \"momentum\":\n",
        "                    parameters, v = update_parameters_with_momentum(parameters, grads, v, beta, learning_rate)\n",
        "                elif optimizer == \"adam\":\n",
        "                    t = t + 1 # Adam counter\n",
        "                    parameters, v, s, _, _ = update_parameters_with_adam(parameters, grads, v, s,\n",
        "                                                                       t, learning_rate, beta1, beta2, epsilon)\n",
        "            cost_avg = cost_total / m\n",
        "            if decay:\n",
        "                learning_rate = decay(learning_rate0, i, decay_rate)\n",
        "\n",
        "            # Print the cost every 100 epochs\n",
        "            if print_cost and i % 100 == 0:\n",
        "              print(\"Cost after epoch %i: %f\" % (i, cost_avg))\n",
        "            if print_cost and i % 10 == 0:\n",
        "              costs.append(cost_avg)\n",
        "\n",
        "    elif regularization == 'dropout':\n",
        "        keep_prob = 0.86\n",
        "        # Optimization Loop\n",
        "        for i in range(num_epochs):\n",
        "            # Define the random minibatches. We increment the seed to reshuffle differently the dataset after each epoch\n",
        "            seed = seed + 1\n",
        "            minibatches = random_mini_batches(X, Y, mini_batch_size, seed)\n",
        "            cost_total = 0\n",
        "\n",
        "            for minibatch in minibatches:\n",
        "                # Select a minibatch\n",
        "                (minibatch_X, minibatch_Y) = minibatch\n",
        "\n",
        "                # Forward propagation\n",
        "                AL, caches = forward_propagation_with_dropout(minibatch_X, parameters, keep_prob)\n",
        "\n",
        "                # Compute cost and add to the cost total\n",
        "                cost_total += cost_function(AL, minibatch_Y)\n",
        "\n",
        "                # Backward propagation\n",
        "                grads = backward_prop_with_dropout(AL, minibatch_Y, caches, keep_prob)\n",
        "\n",
        "                # Update parameters\n",
        "                if optimizer == \"momentum\":\n",
        "                    parameters, v = update_parameters_with_momentum(parameters, grads, v, beta, learning_rate)\n",
        "                elif optimizer == \"adam\":\n",
        "                    t = t + 1 # Adam counter\n",
        "                    parameters, v, s, _, _ = update_parameters_with_adam(parameters, grads, v, s,\n",
        "                                                                       t, learning_rate, beta1, beta2, epsilon)\n",
        "            cost_avg = cost_total / m\n",
        "            if decay:\n",
        "                learning_rate = decay(learning_rate0, i, decay_rate)\n",
        "\n",
        "            # Print the cost every 100 epoch\n",
        "            if print_cost and i % 100 == 0:\n",
        "                print(\"Cost after epoch %i: %f\" % (i, cost_avg))\n",
        "            if print_cost and i % 10 == 0:\n",
        "                costs.append(cost_avg)\n",
        "\n",
        "    # plot the cost\n",
        "    plt.plot(costs)\n",
        "    plt.ylabel('cost')\n",
        "    plt.xlabel('epochs (per 100)')\n",
        "    plt.title(\"Learning rate = \" + str(learning_rate))\n",
        "    plt.show()\n",
        "\n",
        "    return parameters\n"
      ],
      "metadata": {
        "id": "TE70SIC0NU9_"
      },
      "id": "TE70SIC0NU9_",
      "execution_count": 6,
      "outputs": []
    },
    {
      "cell_type": "code",
      "source": [
        "X_train = np.array(X_train)\n",
        "y_train = np.array(y_train)"
      ],
      "metadata": {
        "id": "7yfYhvEBWNx5"
      },
      "id": "7yfYhvEBWNx5",
      "execution_count": 7,
      "outputs": []
    },
    {
      "cell_type": "markdown",
      "source": [
        "As the dataset is quite large and the purpose of this project is to test the functions created and the implementation, I'm going to reduce the dataset to a sample of 10k inputs, and also make training faster."
      ],
      "metadata": {
        "id": "-VKkq7P9mAG4"
      },
      "id": "-VKkq7P9mAG4"
    },
    {
      "cell_type": "code",
      "source": [
        "layers_dims = [200, 32, 1]\n",
        "mini_batch_size = 512\n",
        "num_epochs = 1000\n",
        "X_small = X_train[:, :10000]\n",
        "y_small = y_train[:, :10000]"
      ],
      "metadata": {
        "id": "cpXBYdXGe6e4"
      },
      "id": "cpXBYdXGe6e4",
      "execution_count": 8,
      "outputs": []
    },
    {
      "cell_type": "markdown",
      "source": [
        "* **Model A training:**"
      ],
      "metadata": {
        "id": "Ldgt68F1mXOm"
      },
      "id": "Ldgt68F1mXOm"
    },
    {
      "cell_type": "code",
      "source": [
        "parameters_A = reg_op_model(X_small, y_small, layers_dims, initialization='random', regularization='l2', optimizer='adam', mini_batch_size=mini_batch_size, num_epochs=num_epochs)"
      ],
      "metadata": {
        "colab": {
          "base_uri": "https://localhost:8080/",
          "height": 646
        },
        "id": "kS29o0xoUlbP",
        "outputId": "db1d1819-5196-4636-e777-6681295f3be9"
      },
      "id": "kS29o0xoUlbP",
      "execution_count": 10,
      "outputs": [
        {
          "output_type": "stream",
          "name": "stdout",
          "text": [
            "Cost after epoch 0: 0.000938\n",
            "Cost after epoch 100: 0.000282\n",
            "Cost after epoch 200: 0.000167\n",
            "Cost after epoch 300: 0.000124\n",
            "Cost after epoch 400: 0.000109\n",
            "Cost after epoch 500: 0.000094\n",
            "Cost after epoch 600: 0.000087\n",
            "Cost after epoch 700: 0.000081\n",
            "Cost after epoch 800: 0.000076\n",
            "Cost after epoch 900: 0.000071\n"
          ]
        },
        {
          "output_type": "display_data",
          "data": {
            "text/plain": [
              "<Figure size 640x480 with 1 Axes>"
            ],
            "image/png": "[encoded data removed]"
          },
          "metadata": {}
        }
      ]
    },
    {
      "cell_type": "markdown",
      "source": [
        "* **Model B training:**"
      ],
      "metadata": {
        "id": "0MRE_KskmcaA"
      },
      "id": "0MRE_KskmcaA"
    },
    {
      "cell_type": "code",
      "source": [
        "parameters_B = reg_op_model(X_small, y_small, layers_dims, initialization='he', regularization='dropout', optimizer='momentum', mini_batch_size=mini_batch_size, num_epochs=num_epochs)"
      ],
      "metadata": {
        "colab": {
          "base_uri": "https://localhost:8080/",
          "height": 646
        },
        "id": "az0qReCvbtrz",
        "outputId": "1ca4c4b8-a7b0-40ed-9c47-83502993014b"
      },
      "id": "az0qReCvbtrz",
      "execution_count": 11,
      "outputs": [
        {
          "output_type": "stream",
          "name": "stdout",
          "text": [
            "Cost after epoch 0: 0.002659\n",
            "Cost after epoch 100: 0.000668\n",
            "Cost after epoch 200: 0.000657\n",
            "Cost after epoch 300: 0.000644\n",
            "Cost after epoch 400: 0.000634\n",
            "Cost after epoch 500: 0.000635\n",
            "Cost after epoch 600: 0.000623\n",
            "Cost after epoch 700: 0.000626\n",
            "Cost after epoch 800: 0.000619\n",
            "Cost after epoch 900: 0.000612\n"
          ]
        },
        {
          "output_type": "display_data",
          "data": {
            "text/plain": [
              "<Figure size 640x480 with 1 Axes>"
            ],
            "image/png": "[encoded data removed]"
          },
          "metadata": {}
        }
      ]
    },
    {
      "cell_type": "markdown",
      "source": [
        "### 3.3 Testing"
      ],
      "metadata": {
        "id": "oWAlliL3mimN"
      },
      "id": "oWAlliL3mimN"
    },
    {
      "cell_type": "markdown",
      "source": [
        "Now is the time to test the two different models in the test set to obtain predictions and the accuracy of each model!"
      ],
      "metadata": {
        "id": "uxCZhdcjm4MB"
      },
      "id": "uxCZhdcjm4MB"
    },
    {
      "cell_type": "code",
      "source": [
        "print(data_test.head())\n",
        "print(data_test.shape)"
      ],
      "metadata": {
        "colab": {
          "base_uri": "https://localhost:8080/"
        },
        "id": "dkOsUNjpnBRy",
        "outputId": "f33acff4-a96e-4746-89b1-a0fbadef69e7"
      },
      "id": "dkOsUNjpnBRy",
      "execution_count": 15,
      "outputs": [
        {
          "output_type": "stream",
          "name": "stdout",
          "text": [
            "  ID_code    var_0    var_1    var_2   var_3    var_4   var_5   var_6  \\\n",
            "0  test_0  11.0656   7.7798  12.9536  9.4292  11.4327 -2.3805  5.8493   \n",
            "1  test_1   8.5304   1.2543  11.3047  5.1858   9.1974 -4.0117  6.0196   \n",
            "2  test_2   5.4827 -10.3581  10.1407  7.0479  10.2628  9.8052  4.8950   \n",
            "3  test_3   8.5374  -1.3222  12.0220  6.5749   8.8458  3.1744  4.9397   \n",
            "4  test_4  11.7058  -0.1327  14.1295  7.7506   9.1035 -8.5848  6.8595   \n",
            "\n",
            "     var_7   var_8  ...  var_190  var_191  var_192  var_193  var_194  var_195  \\\n",
            "0  18.2675  2.1337  ...  -2.1556  11.8495  -1.4300   2.4508  13.7112   2.4669   \n",
            "1  18.6316 -4.4131  ...  10.6165   8.8349   0.9403  10.1282  15.5765   0.4773   \n",
            "2  20.2537  1.5233  ...  -0.7484  10.9935   1.9803   2.1800  12.9813   2.1281   \n",
            "3  20.5660  3.3755  ...   9.5702   9.0766   1.6580   3.5813  15.1874   3.1656   \n",
            "4  10.6048  2.9890  ...   4.2259   9.1723   1.2835   3.3778  19.5542  -0.2860   \n",
            "\n",
            "   var_196  var_197  var_198  var_199  \n",
            "0   4.3654  10.7200  15.4722  -8.7197  \n",
            "1  -1.4852   9.8714  19.1293 -20.9760  \n",
            "2  -7.1086   7.0618  19.8956 -23.1794  \n",
            "3   3.9567   9.2295  13.0168  -4.2108  \n",
            "4  -5.1612   7.2882  13.9260  -9.1846  \n",
            "\n",
            "[5 rows x 201 columns]\n",
            "(200000, 201)\n"
          ]
        }
      ]
    },
    {
      "cell_type": "markdown",
      "source": [
        "As this Dataset is prepared for a **Kaggle competition**, there's no Target feature in the test dataset. As I want to measure accuracy and just test the Neural Net implementation, I'm going to generate a **validation dataset** that will be the next 10k entries from the training dataset (the one that we used was from 0 - 10k, so now 10k - 20k)"
      ],
      "metadata": {
        "id": "wTmTjJOLovE_"
      },
      "id": "wTmTjJOLovE_"
    },
    {
      "cell_type": "code",
      "source": [
        "X_val = X_train[:, 10000:20000]\n",
        "y_val = y_train[:, 10000:20000]"
      ],
      "metadata": {
        "id": "TSFYAl2ApfqS"
      },
      "id": "TSFYAl2ApfqS",
      "execution_count": 16,
      "outputs": []
    },
    {
      "cell_type": "code",
      "source": [
        "# Model A\n",
        "print('Model A test:')\n",
        "predictions_test, accuracy_test = predict(X_val, y_val, parameters_A)\n",
        "print(f\"Test accuracy: {accuracy_test:.2f}%\")\n",
        "print('----------------------------------------------')\n",
        "print('Model B test:')\n",
        "predictions_test, accuracy_test = predict(X_val, y_val, parameters_B)\n",
        "print(f\"Test accuracy: {accuracy_test:.2f}%\")"
      ],
      "metadata": {
        "colab": {
          "base_uri": "https://localhost:8080/"
        },
        "id": "UpGvpErCqJDY",
        "outputId": "ac360a23-7202-4aa8-ef53-36e4844c8fa8"
      },
      "id": "UpGvpErCqJDY",
      "execution_count": 17,
      "outputs": [
        {
          "output_type": "stream",
          "name": "stdout",
          "text": [
            "Model A test:\n",
            "Test accuracy: 86.81%\n",
            "----------------------------------------------\n",
            "Model B test:\n",
            "Test accuracy: 90.20%\n"
          ]
        }
      ]
    },
    {
      "cell_type": "markdown",
      "source": [
        "And here we have it! The combination selected for **Model B** was more accurate by almost 4%. We could try more combinations, try different hyperparameters... Overall the implementation works smoothly as intended."
      ],
      "metadata": {
        "id": "71dO0VIAqqaB"
      },
      "id": "71dO0VIAqqaB"
    }
  ],
  "metadata": {
    "kernelspec": {
      "display_name": "Python 3",
      "name": "python3"
    },
    "language_info": {
      "codemirror_mode": {
        "name": "ipython",
        "version": 3
      },
      "file_extension": ".py",
      "mimetype": "text/x-python",
      "name": "python",
      "nbconvert_exporter": "python",
      "pygments_lexer": "ipython3",
      "version": "3.13.7"
    },
    "colab": {
      "provenance": [],
      "include_colab_link": true
    }
  },
  "nbformat": 4,
  "nbformat_minor": 5
}